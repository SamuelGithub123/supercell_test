{
 "cells": [
  {
   "cell_type": "code",
   "execution_count": 1,
   "metadata": {},
   "outputs": [],
   "source": [
    "import pandas as pd"
   ]
  },
  {
   "cell_type": "code",
   "execution_count": 2,
   "metadata": {},
   "outputs": [
    {
     "name": "stderr",
     "output_type": "stream",
     "text": [
      "/var/folders/f6/jzsrpz0126qby18y19slxzbw0000gn/T/ipykernel_30728/63742426.py:4: DtypeWarning: Columns (6,8,11,13) have mixed types. Specify dtype option on import or set low_memory=False.\n",
      "  df_chat_messages_1 = pd.read_csv('data/chat_messages_1.csv')\n",
      "/var/folders/f6/jzsrpz0126qby18y19slxzbw0000gn/T/ipykernel_30728/63742426.py:5: DtypeWarning: Columns (8,10,12,13,15,17) have mixed types. Specify dtype option on import or set low_memory=False.\n",
      "  df_chat_messages_2 = pd.read_csv('data/chat_messages_2.csv')\n"
     ]
    }
   ],
   "source": [
    "df_accounts = pd.read_csv('data/accounts.csv')\n",
    "df_alliance_ff = pd.read_csv('data/alliance_ff.csv')\n",
    "df_alliance_membership = pd.read_csv('data/alliance_membership.csv')\n",
    "df_chat_messages_1 = pd.read_csv('data/chat_messages_1.csv')\n",
    "df_chat_messages_2 = pd.read_csv('data/chat_messages_2.csv')\n"
   ]
  },
  {
   "cell_type": "code",
   "execution_count": 6,
   "metadata": {},
   "outputs": [
    {
     "data": {
      "text/plain": [
       "(130137, 20)"
      ]
     },
     "execution_count": 6,
     "metadata": {},
     "output_type": "execute_result"
    }
   ],
   "source": [
    "df_accounts.shape\n",
    "pd.set_option('display.max_columns', 20)\n",
    "##df_alliance_ff.shape\n",
    "##df_alliance_membership.shape\n",
    "##df_chat_messages_1.shape\n",
    "##df_chat_messages_2.shape\n",
    "\n",
    "##df_accounts.head()\n"
   ]
  },
  {
   "cell_type": "code",
   "execution_count": null,
   "metadata": {},
   "outputs": [],
   "source": []
  },
  {
   "cell_type": "code",
   "execution_count": null,
   "metadata": {},
   "outputs": [],
   "source": []
  }
 ],
 "metadata": {
  "kernelspec": {
   "display_name": "Python 3 (ipykernel)",
   "language": "python",
   "name": "python3"
  },
  "language_info": {
   "codemirror_mode": {
    "name": "ipython",
    "version": 3
   },
   "file_extension": ".py",
   "mimetype": "text/x-python",
   "name": "python",
   "nbconvert_exporter": "python",
   "pygments_lexer": "ipython3",
   "version": "3.11.7"
  }
 },
 "nbformat": 4,
 "nbformat_minor": 4
}
