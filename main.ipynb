{
 "cells": [
  {
   "cell_type": "code",
   "execution_count": 21,
   "metadata": {
    "ExecuteTime": {
     "end_time": "2024-03-09T16:24:28.667968Z",
     "start_time": "2024-03-09T16:24:28.665249Z"
    }
   },
   "outputs": [],
   "source": [
    "import pandas as pd"
   ]
  },
  {
   "cell_type": "code",
   "execution_count": 22,
   "metadata": {
    "ExecuteTime": {
     "end_time": "2024-03-09T16:24:31.504706Z",
     "start_time": "2024-03-09T16:24:28.687779Z"
    }
   },
   "outputs": [],
   "source": [
    "df_accounts = pd.read_csv('data/accounts.csv')\n",
    "df_alliance_ff = pd.read_csv('data/alliance_ff.csv')\n",
    "df_alliance_membership = pd.read_csv('data/alliance_membership.csv')\n",
    "df_chat_messages_1 = pd.read_csv('data/chat_messages_1.csv', dtype='unicode')\n",
    "df_chat_messages_2 = pd.read_csv('data/chat_messages_2.csv', dtype='unicode')"
   ]
  },
  {
   "cell_type": "markdown",
   "source": [
    "Clean dataset chat_messages_1   "
   ],
   "metadata": {
    "collapsed": false
   }
  },
  {
   "cell_type": "markdown",
   "source": [
    "Drop unnecessary columns"
   ],
   "metadata": {
    "collapsed": false
   }
  },
  {
   "cell_type": "code",
   "execution_count": 23,
   "metadata": {
    "ExecuteTime": {
     "end_time": "2024-03-09T16:24:32.362749Z",
     "start_time": "2024-03-09T16:24:31.506450Z"
    }
   },
   "outputs": [],
   "source": [
    "columns_to_drop = ['risk', 'filter_detected_language', 'is_family_friendly', 'BULLYING', 'VIOLENCE', 'RELATIONSHIP_SEXUAL_CONTENT', 'VULGARITY', 'DRUGS_ALCOHOL', 'IN_APP', 'ALARM', 'FRAUD', 'HATE_SPEECH', 'RELIGIOUS', 'WEBSITE', 'CHILD_GROOMING', 'PUBLIC_THREAT', 'EXTREMISM', 'SUBVERSIVE', 'SENTIMENT', 'POLITICS']\n",
    "df_chat_messages_1.drop(columns_to_drop, inplace=True, axis=1)\n",
    "df_chat_messages_1.to_csv(\"modified_chat_messages_1.csv\", index=False)"
   ]
  },
  {
   "cell_type": "markdown",
   "source": [
    "Clean dataset chat_messages_2"
   ],
   "metadata": {
    "collapsed": false
   }
  },
  {
   "cell_type": "markdown",
   "source": [
    "Drop unnecessary columns"
   ],
   "metadata": {
    "collapsed": false
   }
  },
  {
   "cell_type": "code",
   "outputs": [],
   "source": [
    "columns_to_drop2 = ['risk', 'filter_detected_language', 'is_family_friendly', 'BULLYING', 'VIOLENCE', 'RELATIONSHIP_SEXUAL_CONTENT', 'VULGARITY', 'DRUGS_ALCOHOL', 'IN_APP', 'ALARM', 'FRAUD', 'HATE_SPEECH', 'RELIGIOUS', 'WEBSITE', 'CHILD_GROOMING', 'PUBLIC_THREAT', 'EXTREMISM', 'SUBVERSIVE', 'SENTIMENT', 'POLITICS']\n",
    "df_chat_messages_2.drop(columns_to_drop2, inplace=True, axis=1)\n",
    "df_chat_messages_2.to_csv(\"modified_chat_messages_2.csv\", index=False)"
   ],
   "metadata": {
    "collapsed": false
   },
   "execution_count": null
  },
  {
   "cell_type": "markdown",
   "source": [
    "Load Model"
   ],
   "metadata": {
    "collapsed": false
   }
  },
  {
   "cell_type": "code",
   "outputs": [
    {
     "data": {
      "text/plain": "VBox(children=(HTML(value='<center> <img\\nsrc=https://huggingface.co/front/assets/huggingface_logo-noborder.sv…",
      "application/vnd.jupyter.widget-view+json": {
       "version_major": 2,
       "version_minor": 0,
       "model_id": "1016d9d056ca4eddb593cfb32aabed14"
      }
     },
     "metadata": {},
     "output_type": "display_data"
    }
   ],
   "source": [
    "from huggingface_hub import notebook_login\n",
    "notebook_login()"
   ],
   "metadata": {
    "collapsed": false,
    "ExecuteTime": {
     "end_time": "2024-03-09T16:38:48.151787Z",
     "start_time": "2024-03-09T16:38:47.808738Z"
    }
   },
   "execution_count": 27
  },
  {
   "cell_type": "code",
   "outputs": [],
   "source": [
    "import timm\n",
    "model_reloaded = timm.create_model('hf_hub:nateraw/resnet18-random', pretrained=True)"
   ],
   "metadata": {
    "collapsed": false
   }
  }
 ],
 "metadata": {
  "kernelspec": {
   "display_name": "Python 3 (ipykernel)",
   "language": "python",
   "name": "python3"
  },
  "language_info": {
   "codemirror_mode": {
    "name": "ipython",
    "version": 3
   },
   "file_extension": ".py",
   "mimetype": "text/x-python",
   "name": "python",
   "nbconvert_exporter": "python",
   "pygments_lexer": "ipython3",
   "version": "3.11.7"
  }
 },
 "nbformat": 4,
 "nbformat_minor": 4
}
